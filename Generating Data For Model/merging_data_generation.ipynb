{
 "cells": [
  {
   "cell_type": "code",
   "execution_count": 3,
   "metadata": {},
   "outputs": [],
   "source": [
    "import pandas as pd\n",
    "\n",
    "df1 = pd.read_csv('combined_data_SPN_averages_january.csv')\n",
    "df2 = pd.read_csv('combined_data_SPN_averages_february.csv')\n",
    "df3 = pd.read_csv('combined_data_SPN_averages_march.csv')\n",
    "df4 = pd.read_csv('combined_data_SPN_averages_april.csv')\n",
    "df5 = pd.read_csv('combined_data_SPN_averages_may.csv')\n",
    "df6 = pd.read_csv('combined_data_SPN_averages_june.csv')\n",
    "\n",
    "# Merge the DataFrames on common columns\n",
    "merged_df = pd.concat([df1, df2, df3, df4, df5, df6], ignore_index=True)\n",
    "\n",
    "# Group by unique columns and calculate the average of SPN values\n",
    "grouped_df = merged_df.groupby(['VEH_ID', 'DEPOT_ID', 'DEPOT_NM', 'MODEL_NUM']).mean().reset_index()\n",
    "\n",
    "# Save the result to a new CSV file\n",
    "grouped_df.to_csv('merged_data.csv', index=False)\n"
   ]
  }
 ],
 "metadata": {
  "kernelspec": {
   "display_name": "Python 3",
   "language": "python",
   "name": "python3"
  },
  "language_info": {
   "codemirror_mode": {
    "name": "ipython",
    "version": 3
   },
   "file_extension": ".py",
   "mimetype": "text/x-python",
   "name": "python",
   "nbconvert_exporter": "python",
   "pygments_lexer": "ipython3",
   "version": "3.11.4"
  },
  "orig_nbformat": 4
 },
 "nbformat": 4,
 "nbformat_minor": 2
}
