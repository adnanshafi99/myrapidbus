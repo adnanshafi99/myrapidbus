{
 "cells": [
  {
   "cell_type": "code",
   "execution_count": 2,
   "metadata": {},
   "outputs": [],
   "source": [
    "import pandas as pd\n",
    "\n",
    "# Load the merged_data.csv dataset\n",
    "df = pd.read_csv(\"merged_data.csv\")\n",
    "\n",
    "# Select the desired columns\n",
    "selected_columns = [\n",
    "    \"VEH_ID\",\n",
    "    \"SPN_247\",\n",
    "    \"SPN_190\",\n",
    "    \"SPN_513\",\n",
    "    \"SPN_250\",\n",
    "    \"SPN_110\",\n",
    "    \"SPN_183\",\n",
    "    \"SPN_184\",\n",
    "    \"SPN_92\",\n",
    "]\n",
    "\n",
    "# Create a new DataFrame with only the selected columns\n",
    "filtered_df = df[selected_columns]\n",
    "\n",
    "# Rename the columns\n",
    "filtered_df.columns = [\n",
    "    \"BUS ID\",\n",
    "    \"SPN_247 (Engine Total Hours of Operation)\",\n",
    "    \"SPN_190 (Engine Speed)\",\n",
    "    \"SPN_513 (Actual Engine - Percent Torque)\",\n",
    "    \"SPN_250 (Engine Total Fuel Used)\",\n",
    "    \"SPN_110 (Engine Coolant Temperature)\",\n",
    "    \"SPN_183(Engine Fuel Rate)\",\n",
    "    \"SPN_184 (Engine Instantaneous Fuel Economy)\",\n",
    "    \"SPN_92\\t(Engine Percent Load At Current Speed)\",\n",
    "]\n",
    "\n",
    "# Save the filtered and renamed DataFrame to a new CSV file\n",
    "filtered_df.to_csv(\"prediction_data.csv\", index=False)\n"
   ]
  }
 ],
 "metadata": {
  "kernelspec": {
   "display_name": "Python 3",
   "language": "python",
   "name": "python3"
  },
  "language_info": {
   "codemirror_mode": {
    "name": "ipython",
    "version": 3
   },
   "file_extension": ".py",
   "mimetype": "text/x-python",
   "name": "python",
   "nbconvert_exporter": "python",
   "pygments_lexer": "ipython3",
   "version": "3.11.4"
  },
  "orig_nbformat": 4
 },
 "nbformat": 4,
 "nbformat_minor": 2
}
