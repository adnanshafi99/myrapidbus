{
 "cells": [
  {
   "cell_type": "code",
   "execution_count": null,
   "metadata": {},
   "outputs": [],
   "source": []
  },
  {
   "cell_type": "code",
   "execution_count": 23,
   "metadata": {},
   "outputs": [
    {
     "name": "stderr",
     "output_type": "stream",
     "text": [
      "C:\\Users\\shake\\AppData\\Local\\Temp\\ipykernel_11952\\1202180073.py:9: DtypeWarning: Columns (11,12) have mixed types. Specify dtype option on import or set low_memory=False.\n",
      "  df = pd.read_csv(csv_file)\n"
     ]
    },
    {
     "name": "stdout",
     "output_type": "stream",
     "text": [
      "          VEH_ID DEPOT_ID      DEPOT_NM        MODEL_NUM\n",
      "0         VH3751     M002        KAJANG  SCANIA K250 MRT\n",
      "1        VAE7537     M002        KAJANG  SCANIA K250 MRT\n",
      "2        VAG4729     M002        KAJANG  SCANIA K250 MRT\n",
      "3         VH4215     M001  SUNGAI BULOH    VOLVO B7R MRT\n",
      "4        VAG4680     M002        KAJANG  SCANIA K250 MRT\n",
      "...          ...      ...           ...              ...\n",
      "4514870   VG6480     M001  SUNGAI BULOH    VOLVO B7R MRT\n",
      "4532335  VAF5756     M001  SUNGAI BULOH    VOLVO B7R MRT\n",
      "4554785   VH3738     M002        KAJANG  SCANIA K250 MRT\n",
      "4714145  VAJ2875     M001  SUNGAI BULOH    VOLVO B7R MRT\n",
      "4901754   VG6514     M001  SUNGAI BULOH    VOLVO B7R MRT\n",
      "\n",
      "[285 rows x 4 columns]\n"
     ]
    }
   ],
   "source": [
    "import pandas as pd\n",
    "\n",
    "csv_files = ['DST_CANPERIODHIST_202306.csv']\n",
    "\n",
    "dfs = []\n",
    "\n",
    "# Loop through each CSV file and read it into a DataFrame\n",
    "for csv_file in csv_files:\n",
    "    df = pd.read_csv(csv_file)\n",
    "    dfs.append(df)\n",
    "\n",
    "# Combine all DataFrames into one\n",
    "combined_df = pd.concat(dfs, ignore_index=True)\n",
    "\n",
    "# Create a new DataFrame with unique values of VEH_ID, DEPOT_ID, DEPOT_NM, and MODEL_NUM\n",
    "unique_df = combined_df[['VEH_ID', 'DEPOT_ID', 'DEPOT_NM', 'MODEL_NUM']].drop_duplicates()\n",
    "\n",
    "# Print the unique DataFrame\n",
    "print(unique_df)\n"
   ]
  },
  {
   "cell_type": "code",
   "execution_count": 24,
   "metadata": {},
   "outputs": [],
   "source": [
    "unique_df.to_csv('unique_feeder_info_june.csv', index=False)"
   ]
  },
  {
   "cell_type": "code",
   "execution_count": 25,
   "metadata": {},
   "outputs": [
    {
     "name": "stdout",
     "output_type": "stream",
     "text": [
      "Combined data for SPN averages has been saved to combined_data_SPN_averages_january.csv\n"
     ]
    }
   ],
   "source": [
    "import pandas as pd\n",
    "import re\n",
    "\n",
    "# Load the CSV file containing unique VEH_ID data\n",
    "unique_veh_df = pd.read_csv('unique_feeder_info_june.csv')\n",
    "\n",
    "# Load the CSV file containing sensor data\n",
    "sensor_data_df = dfs[0]\n",
    "\n",
    "sensor_data_df = sensor_data_df.drop(['APPLY_DT', 'DEPOT_ID', 'DEPOT_NM', 'VEH_TPCD', 'VEH_TPNM', 'DEPOT_NM', 'EVT_DATETIME', 'MODEL_NUM'], axis=1)\n",
    "\n",
    "# Define a function to extract numbers or floats from a string\n",
    "def extract_numbers(s):\n",
    "    numbers = re.findall(r'\\d+\\.\\d+|\\d+', str(s))\n",
    "    return sum([float(num) for num in numbers]) if numbers else None\n",
    "\n",
    "# Iterate through columns with \"SPN\" in their names and calculate averages\n",
    "for column in sensor_data_df.columns:\n",
    "    if 'SPN' in column:\n",
    "        # Apply the extract_numbers function to the column\n",
    "        sensor_data_df[column] = sensor_data_df[column].apply(extract_numbers)\n",
    "\n",
    "# Group the sensor data by 'VEH_ID' and calculate the mean for all SPN columns\n",
    "sensor_averages = sensor_data_df.groupby('VEH_ID').mean().reset_index()\n",
    "\n",
    "# Merge the unique VEH_ID data with the sensor averages based on 'VEH_ID'\n",
    "merged_df = unique_veh_df.merge(sensor_averages, on='VEH_ID', how='left')\n",
    "\n",
    "# Save the combined data to a CSV file\n",
    "merged_df.to_csv('combined_data_SPN_averages_june.csv', index=False)"
   ]
  }
 ],
 "metadata": {
  "kernelspec": {
   "display_name": "Python 3",
   "language": "python",
   "name": "python3"
  },
  "language_info": {
   "codemirror_mode": {
    "name": "ipython",
    "version": 3
   },
   "file_extension": ".py",
   "mimetype": "text/x-python",
   "name": "python",
   "nbconvert_exporter": "python",
   "pygments_lexer": "ipython3",
   "version": "3.11.4"
  },
  "orig_nbformat": 4
 },
 "nbformat": 4,
 "nbformat_minor": 2
}
